{
 "cells": [
  {
   "cell_type": "markdown",
   "metadata": {},
   "source": [
    "# Handling Imbalanced Dataset via 2 techniques"
   ]
  },
  {
   "cell_type": "markdown",
   "metadata": {},
   "source": [
    "## Why to handle Imbalanced Dataset?"
   ]
  },
  {
   "cell_type": "markdown",
   "metadata": {},
   "source": [
    "Problem :\n",
    "Let's imagine we have records of 1000 bank customers. We have collected and saw how many bank customers close their account and how many did not yet.\n",
    "\n",
    "Suppose, we have data implying 900 bank customers who close their account and 100 bank customers who did not.\n",
    "\n",
    "Such dataset is call imbalanced dataset where the outcomes are not evenly distributed.\n",
    "\n",
    "Now if we train our machine learning model with this dataset, it will take biased decision. \n",
    "\n",
    "Solution :\n",
    "Lets try to bring the ratio to 50% and 50% or 60:40% so that our ML model will give more matured output.\n",
    "\n",
    "Hence, lets explore two different techniques to handle such imbalanced dataset."
   ]
  },
  {
   "attachments": {
    "11.JPG": {
     "image/jpeg": "[encoded data removed]"
    }
   },
   "cell_type": "markdown",
   "metadata": {},
   "source": [
    "![11.JPG](attachment:11.JPG)"
   ]
  },
  {
   "cell_type": "markdown",
   "metadata": {},
   "source": [
    "Following are 2 techniques :\n",
    "1. Under Sampling or Down Sampling\n",
    "2. Over Sampling or Up Sampling"
   ]
  },
  {
   "cell_type": "markdown",
   "metadata": {},
   "source": [
    "## Acknowledgements "
   ]
  },
  {
   "cell_type": "markdown",
   "metadata": {},
   "source": [
    "The dataset has been collected and analysed during a research collaboration of Worldline and the Machine Learning Group (http://mlg.ulb.ac.be) of ULB (Université Libre de Bruxelles) on big data mining and fraud detection. More details on current and past projects on related topics are available on https://www.researchgate.net/project/Fraud-detection-5 and the page of the DefeatFraud project"
   ]
  },
  {
   "cell_type": "markdown",
   "metadata": {},
   "source": [
    "## Contents "
   ]
  },
  {
   "cell_type": "markdown",
   "metadata": {},
   "source": [
    "1. Import Libraries and Dataset\n",
    "2. Exploratory Data Analysis\n",
    "3. Apply Under Sampling to handle\n",
    "4. Apply Over Sampling to handle\n",
    "5. Conclusion : Which ones works better?"
   ]
  },
  {
   "cell_type": "markdown",
   "metadata": {},
   "source": [
    "## 1. Import Libraries and Dataset"
   ]
  },
  {
   "cell_type": "code",
   "execution_count": null,
   "metadata": {},
   "outputs": [],
   "source": [
    "import pandas as pd\n",
    "import numpy as np\n",
    "import matplotlib.pyplot as plt\n",
    "import seaborn as sns"
   ]
  },
  {
   "cell_type": "code",
   "execution_count": null,
   "metadata": {},
   "outputs": [],
   "source": [
    "dataset = pd.read_csv('creditcard.csv') \n",
    "#File is around 150 MB. So please download it from Kaggle site.( https://www.kaggle.com/mlg-ulb/creditcardfraud)\n",
    "dataset.head()"
   ]
  },
  {
   "cell_type": "code",
   "execution_count": null,
   "metadata": {},
   "outputs": [],
   "source": [
    "dataset.info()"
   ]
  },
  {
   "cell_type": "code",
   "execution_count": null,
   "metadata": {},
   "outputs": [],
   "source": [
    "dataset.describe()"
   ]
  },
  {
   "cell_type": "code",
   "execution_count": null,
   "metadata": {},
   "outputs": [],
   "source": [
    "dataset.shape # 31 features and 2 lakhs 84 thousand records"
   ]
  },
  {
   "cell_type": "markdown",
   "metadata": {},
   "source": [
    "## 2. Exploratory Data Analysis (EDA)"
   ]
  },
  {
   "cell_type": "markdown",
   "metadata": {},
   "source": [
    "We do EDA to understand what data are we dealing with. What independnt features are vital and how they effect our Dependent Feature?"
   ]
  },
  {
   "cell_type": "code",
   "execution_count": null,
   "metadata": {},
   "outputs": [],
   "source": [
    "#Check the null values in dataset\n",
    "dataset.isnull().values.any()\n",
    "#dataset.isnull().sum()"
   ]
  },
  {
   "cell_type": "code",
   "execution_count": null,
   "metadata": {},
   "outputs": [],
   "source": [
    "#Lets explore the dependent feature ( Class ) and independent features \n",
    "columns = dataset.columns.tolist()\n",
    "columns #all column name in this list"
   ]
  },
  {
   "cell_type": "code",
   "execution_count": null,
   "metadata": {},
   "outputs": [],
   "source": [
    "#Lets filter the columns except CLASS\n",
    "columns = [c for c in columns if c not in [\"Class\"]]\n",
    "columns"
   ]
  },
  {
   "cell_type": "code",
   "execution_count": null,
   "metadata": {},
   "outputs": [],
   "source": [
    "target = \"Class\"\n",
    "target"
   ]
  },
  {
   "cell_type": "code",
   "execution_count": null,
   "metadata": {},
   "outputs": [],
   "source": [
    "#Lets see the heatmap using seaborn\n",
    "corrmat = dataset.corr()\n",
    "top_corr_mat = corrmat.index\n",
    "plt.figure(figsize=[20,20])\n",
    "g = sns.heatmap(dataset[top_corr_mat],annot=True,cmap='RdYlGn') #It might take little time as there are 31 features"
   ]
  },
  {
   "cell_type": "code",
   "execution_count": null,
   "metadata": {},
   "outputs": [],
   "source": [
    "#Define our X and y\n",
    "X = dataset[columns]\n",
    "y = dataset[target]"
   ]
  },
  {
   "cell_type": "code",
   "execution_count": null,
   "metadata": {},
   "outputs": [],
   "source": [
    "X"
   ]
  },
  {
   "cell_type": "code",
   "execution_count": null,
   "metadata": {},
   "outputs": [],
   "source": [
    "y"
   ]
  },
  {
   "cell_type": "code",
   "execution_count": null,
   "metadata": {},
   "outputs": [],
   "source": [
    "print(X.shape)\n",
    "print(y.shape)"
   ]
  },
  {
   "cell_type": "code",
   "execution_count": null,
   "metadata": {},
   "outputs": [],
   "source": [
    "#Lets see the count distribution of CLASS ( Dependent Variable )\n",
    "count_classes = pd.value_counts(dataset['Class'],sort=True)\n",
    "count_classes"
   ]
  },
  {
   "cell_type": "markdown",
   "metadata": {},
   "source": [
    "Hence , we can say this is our IMBALANCED dataset."
   ]
  },
  {
   "cell_type": "code",
   "execution_count": null,
   "metadata": {},
   "outputs": [],
   "source": [
    "#Lets visualize this count\n",
    "count_classes.plot(kind='bar',rot=0)\n",
    "\n",
    "#Customize\n",
    "plt.title(\"Transaction Class Distribution\")\n",
    "plt.xticks(range(2),[\"Normal\",\"Fraud\"])\n",
    "plt.xlabel(\"Class\")\n",
    "plt.ylabel(\"Frequency\")\n",
    "plt.ylim(10,5000)\n",
    "plt.show()"
   ]
  },
  {
   "cell_type": "code",
   "execution_count": null,
   "metadata": {},
   "outputs": [],
   "source": [
    "#Get the Fraud and Normal dataset\n",
    "fraud = dataset[dataset['Class']==1]\n",
    "normal = dataset[dataset['Class']==0]"
   ]
  },
  {
   "cell_type": "code",
   "execution_count": null,
   "metadata": {},
   "outputs": [],
   "source": [
    "print(\"Fraud Count : \"+str(fraud.shape[0]))\n",
    "print(\"Normal Count : \"+str(normal.shape[0]))"
   ]
  },
  {
   "cell_type": "markdown",
   "metadata": {},
   "source": [
    "## 3. Apply Under Sampling to handle "
   ]
  },
  {
   "cell_type": "markdown",
   "metadata": {},
   "source": [
    "In under sampling, we will downscale normal count to fraud count. i.e. After this method, the count will look like this :\n",
    "X count : 492 Fraud + 492 Normal : 984\n",
    "y count : 492 Fraud + 492 Normal : 984\n",
    "\n",
    "Note : this model randomly select 492 Normal out of 284315 from Normal values"
   ]
  },
  {
   "cell_type": "code",
   "execution_count": null,
   "metadata": {},
   "outputs": [],
   "source": [
    "#Implementing undersampling for handling imbalanced \n",
    "from imblearn.under_sampling import NearMiss"
   ]
  },
  {
   "cell_type": "markdown",
   "metadata": {},
   "source": [
    "Note : If you get error ModuleNotFoundError: No module named 'imblearn', please install it using this cmd in anaconda prompt.\n",
    "conda install -c glemaitre imbalanced-learn"
   ]
  },
  {
   "cell_type": "code",
   "execution_count": null,
   "metadata": {},
   "outputs": [],
   "source": [
    "nm = NearMiss(random_state=42)"
   ]
  },
  {
   "cell_type": "code",
   "execution_count": null,
   "metadata": {},
   "outputs": [],
   "source": [
    "X_res,y_res = nm.fit_sample(X,y)"
   ]
  },
  {
   "cell_type": "code",
   "execution_count": null,
   "metadata": {},
   "outputs": [],
   "source": [
    "X_res.shape,y_res.shape"
   ]
  },
  {
   "cell_type": "code",
   "execution_count": null,
   "metadata": {},
   "outputs": [],
   "source": [
    "#Lets see how do we solve the imabalanced count here\n",
    "from collections import Counter\n",
    "print('Original dataset shape : {}'.format(Counter(y)))\n",
    "print('Original dataset shape : {}'.format(Counter(y_res)))"
   ]
  },
  {
   "cell_type": "markdown",
   "metadata": {},
   "source": [
    "So as mentioned above, we have down sampled the given imbalanced dataset using DownSampling technique."
   ]
  },
  {
   "cell_type": "markdown",
   "metadata": {},
   "source": [
    "## 4. Apply Over Sampling to handle "
   ]
  },
  {
   "cell_type": "markdown",
   "metadata": {},
   "source": [
    "In Over Sampling, we will do opposite of under sampling as you have already guess.\n",
    "\n",
    "After this method, the count will look like this :\n",
    "X count : 284315 Fraud + 284315 Normal : 426472 \n",
    "y count : 284315 Fraud + 284315 Normal : 426472\n",
    "\n",
    "Note : ( Original count : Fraud Count : 492 and Normal Count : 284315 ). \n",
    "It increase the count by plotting same 492 points again and again."
   ]
  },
  {
   "cell_type": "markdown",
   "metadata": {},
   "source": [
    "We have again 2 different techniques to perform OVERSAMPLING which are :\n",
    "1. SMOTETomek\n",
    "2. RandomOverSampler"
   ]
  },
  {
   "cell_type": "code",
   "execution_count": null,
   "metadata": {},
   "outputs": [],
   "source": [
    "#Implementing SMOTETomek\n",
    "from imblearn.over_sampling import SMOTETomek"
   ]
  },
  {
   "cell_type": "code",
   "execution_count": null,
   "metadata": {},
   "outputs": [],
   "source": [
    "smk = SMOTETomek(random_state=42)"
   ]
  },
  {
   "cell_type": "code",
   "execution_count": null,
   "metadata": {},
   "outputs": [],
   "source": [
    "X_res,y_res = smk.fit_sample(X,y)"
   ]
  },
  {
   "cell_type": "code",
   "execution_count": null,
   "metadata": {},
   "outputs": [],
   "source": [
    "X_res.shape,y_res.shape"
   ]
  },
  {
   "cell_type": "code",
   "execution_count": null,
   "metadata": {},
   "outputs": [],
   "source": [
    "#Lets see how do we solve the imabalanced count here\n",
    "print('Original dataset shape : {}'.format(Counter(y)))\n",
    "print('Original dataset shape : {}'.format(Counter(y_res)))"
   ]
  },
  {
   "cell_type": "markdown",
   "metadata": {},
   "source": [
    "So as mentioned above, we have up sampled the given imbalanced dataset using UpSampling technique."
   ]
  },
  {
   "cell_type": "code",
   "execution_count": null,
   "metadata": {},
   "outputs": [],
   "source": [
    "#Implementing RandomOverSampler\n",
    "from imlearn.over_sampling import RandomOverSampler"
   ]
  },
  {
   "cell_type": "code",
   "execution_count": null,
   "metadata": {},
   "outputs": [],
   "source": [
    "os = RandomOverSampler(ratio=1) "
   ]
  },
  {
   "cell_type": "code",
   "execution_count": null,
   "metadata": {},
   "outputs": [],
   "source": [
    "X_train_res,y_train_res = os.fit_sample(X,y)"
   ]
  },
  {
   "cell_type": "code",
   "execution_count": null,
   "metadata": {},
   "outputs": [],
   "source": [
    "X_train_res.shape,y_train_res.shape"
   ]
  },
  {
   "cell_type": "code",
   "execution_count": null,
   "metadata": {},
   "outputs": [],
   "source": [
    "#Lets see how do we solve the imabalanced count here\n",
    "print('Original dataset shape : {}'.format(Counter(y)))\n",
    "print('Original dataset shape : {}'.format(Counter(y_res)))"
   ]
  },
  {
   "cell_type": "markdown",
   "metadata": {},
   "source": [
    "So as mentioned above, we have up sampled the given imbalanced dataset using UpSampling technique."
   ]
  },
  {
   "cell_type": "markdown",
   "metadata": {},
   "source": [
    "##  5. Conclusion : Which ones works better?"
   ]
  },
  {
   "cell_type": "markdown",
   "metadata": {},
   "source": [
    "Upsampling: does/should not loose information (if done wisely), then safer,\n",
    "Downsampling: may loose information (if done unwisely), yet more computationally efficient."
   ]
  },
  {
   "cell_type": "markdown",
   "metadata": {},
   "source": [
    "Use Downsampling if the dataset contains more than 1 million data\n",
    "otherwise we can use Upsampling method."
   ]
  },
  {
   "cell_type": "markdown",
   "metadata": {},
   "source": [
    "## Thank you  "
   ]
  }
 ],
 "metadata": {
  "kernelspec": {
   "display_name": "Python 3",
   "language": "python",
   "name": "python3"
  },
  "language_info": {
   "codemirror_mode": {
    "name": "ipython",
    "version": 3
   },
   "file_extension": ".py",
   "mimetype": "text/x-python",
   "name": "python",
   "nbconvert_exporter": "python",
   "pygments_lexer": "ipython3",
   "version": "3.7.4"
  }
 },
 "nbformat": 4,
 "nbformat_minor": 2
}
